{
 "cells": [
  {
   "cell_type": "markdown",
   "metadata": {},
   "source": [
    "Importa-se o Dataframe das matérias com os respectivos textos/documentos pre-processados e constrói-se o Corpus com isso.\n",
    "\n",
    "Posteriormente, treinar-se-á o Corpus com os modelos de TF-IDF e LSI e salvará-se a matrix de similaridade entre os conceitos/tópicos com os documentos das matérias. "
   ]
  },
  {
   "cell_type": "code",
   "execution_count": 1,
   "metadata": {},
   "outputs": [
    {
     "name": "stderr",
     "output_type": "stream",
     "text": [
      "D:\\ANACONDA\\lib\\site-packages\\gensim\\similarities\\__init__.py:15: UserWarning: The gensim.similarities.levenshtein submodule is disabled, because the optional Levenshtein package <https://pypi.org/project/python-Levenshtein/> is unavailable. Install Levenhstein (e.g. `pip install python-Levenshtein`) to suppress this warning.\n",
      "  warnings.warn(msg)\n"
     ]
    }
   ],
   "source": [
    "import numpy as np\n",
    "import pandas as pd\n",
    "import pickle\n",
    "import gensim\n",
    "from gensim import corpora\n",
    "\n",
    "with open('documents_df.txt', 'rb') as f:\n",
    "    documents_df = pickle.load(f)\n",
    "\n",
    "lemmatizedData = documents_df[\"documento\"].tolist()\n",
    "\n",
    "# * gensim dictionary object, which will track each word to its respective id\n",
    "id2wordDict = corpora.Dictionary(lemmatizedData)\n",
    "\n",
    "# * gensim doc2bow method to map each word to a integer id and its respective frequency\n",
    "corpus = [id2wordDict.doc2bow(text) for text in lemmatizedData]\n",
    "\n",
    "tfidf_model = gensim.models.TfidfModel(corpus, id2word=id2wordDict)\n",
    "\n",
    "lsi_model = gensim.models.LsiModel(tfidf_model[corpus], id2word=id2wordDict, num_topics=100, power_iters=10)\n",
    "\n",
    "gensim.corpora.MmCorpus.serialize('tfidf_model_mm', tfidf_model[corpus])\n",
    "gensim.corpora.MmCorpus.serialize('lsi_model_mm', lsi_model[tfidf_model[corpus]])\n",
    "\n",
    "with open(\"id2wordDict.txt\", 'wb') as f:\n",
    "    pickle.dump(id2wordDict, f)\n",
    "\n",
    "with open(\"tfidf_model.txt\", 'wb') as f:\n",
    "    pickle.dump(tfidf_model, f)\n",
    "\n",
    "with open(\"lsi_model.txt\", 'wb') as f:\n",
    "    pickle.dump(lsi_model, f)"
   ]
  }
 ],
 "metadata": {
  "interpreter": {
   "hash": "ae7890921ac3c17143ff000ac7152addc6614e2051824da39aa37dab63d26d82"
  },
  "kernelspec": {
   "display_name": "Python 3.8.12 ('base')",
   "language": "python",
   "name": "python3"
  },
  "language_info": {
   "codemirror_mode": {
    "name": "ipython",
    "version": 3
   },
   "file_extension": ".py",
   "mimetype": "text/x-python",
   "name": "python",
   "nbconvert_exporter": "python",
   "pygments_lexer": "ipython3",
   "version": "3.8.12"
  },
  "orig_nbformat": 4
 },
 "nbformat": 4,
 "nbformat_minor": 2
}
