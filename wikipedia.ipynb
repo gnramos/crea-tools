{
 "cells": [
  {
   "cell_type": "code",
   "execution_count": 29,
   "metadata": {},
   "outputs": [
    {
     "name": "stdout",
     "output_type": "stream",
     "text": [
      "Eletromagnetismo (AO 1945: electromagnetismo) é o ramo da física que estuda unificadamente os fenômenos da eletricidade e do magnetismo. Esta teoria baseia-se no conceito de campo eletromagnético, a interação conjunta entre os campos elétrico e magnético. Tal interação é regida pelas quatro equações de Maxwell.\n",
      "O campo magnético é resultado do movimento de cargas elétricas, ou seja, é resultado de corrente elétrica. O campo magnético pode resultar em uma força eletromagnética quando associada a ímãs.\n",
      "A variação do fluxo magnético resulta em um campo elétrico (fenômeno conhecido por indução eletromagnética, mecanismo utilizado em geradores elétricos, motores e transformadores de tensão). De maneira semelhante, a variação de um campo elétrico gera um campo magnético. Devido a essa interdependência entre campo elétrico e campo magnético, faz sentido falar em uma única entidade chamada campo eletromagnético.\n",
      "A teoria eletromagnética é essencial para o funcionamento de eletrodomésticos como computadores, receptores de televisão, aparelhos de rádio e lâmpadas. Além disso, é responsável por fenômenos naturais como o relâmpago, as auroras polares e o arco-íris. Cosmologicamente, a força eletromagnética permite a coesão de átomos e moléculas que compõem a matéria do Universo, permitindo, por consequência, a complexidade advinda da química e, no planeta Terra, da biologia.\n",
      "O cálculo infinitesimal, também conhecido como cálculo diferencial e integral ou simplesmente cálculo, é um ramo importante da matemática, desenvolvido a partir da Álgebra e da Geometria, que se dedica ao estudo de taxas de variação de grandezas (como a inclinação de uma reta) e a acumulação de quantidades (como a área debaixo de uma curva ou o volume de um sólido). Onde há movimento ou crescimento em que forças variáveis agem produzindo aceleração, o cálculo é a matemática a ser empregada. Foi criado como uma ferramenta auxiliar em várias áreas das ciências exatas. Desenvolvido simultaneamente por Gottfried Wilhelm Leibniz (1646-1716) e por Isaac Newton (1643-1727), em trabalhos independentes.\n",
      "\n",
      "O cálculo tem inicialmente três \"operações-base\", ou seja, possui áreas iniciais como o cálculo de limites, o cálculo de derivadas de funções e a integral de diferenciais. Com o advento do Teorema Fundamental do Cálculo, estabeleceu-se uma conexão entre os dois ramos do cálculo: o Cálculo Diferencial e o Cálculo Integral. O cálculo diferencial surgiu do problema da tangente, enquanto o cálculo integral surgiu de um problema aparentemente não relacionado, o problema da área.\n",
      "O professor de Isaac Newton em Cambridge, Isaac Barrow, descobriu que esses dois problemas estão de fato estritamente relacionados, ao perceber que a derivação e a integração são processos inversos. Foram Leibniz e Newton que exploraram essa relação e a utilizaram para transformar o cálculo em um método matemático sistemático. Particularmente ambos viram que o Teorema Fundamental os capacitou a calcular áreas e integrais muito mais facilmente, sem que fosse necessário calculá-las como limites de soma (método descrito pelo matemático Riemann, pupilo de Gauss). A integral indefinida também pode ser chamada de antiderivada, uma vez que é um processo que inverte a derivada de funções. Já a integral definida, inicialmente definida como Soma de Riemann, estabelece limites de integração, ou seja, é um processo estabelecido entre dois intervalos bem definidos, daí o nome integral definida.\n",
      "O cálculo diferencial e o cálculo integral auxiliam em vários conceitos e definições na matemática, química, física clássica, física moderna e economia. O estudante de cálculo deve ter um conhecimento em certas áreas da matemática, como funções (modular, exponencial, logarítmica, par, ímpar, afim e segundo grau, por exemplo), trigonometria, polinômios, geometria plana, espacial e analítica, pois são a base do cálculo.\n"
     ]
    }
   ],
   "source": [
    "import wikipediaapi\n",
    "import pickle\n",
    "import pandas as pd\n",
    "import numpy as np\n",
    "\n",
    "wiki = wikipediaapi.Wikipedia(language='pt', extract_format=wikipediaapi.ExtractFormat.WIKI)\n",
    "\n",
    "with open('crea_df_pickle.txt', 'rb') as f:\n",
    "    crea_df = pickle.load(f)\n",
    "\n",
    "# seção de Construção de Edificações\n",
    "subsection1_df = crea_df[ crea_df['SUB-SETOR'] == 'Construção de Edificações']\n",
    "\n",
    "subsection1_df.head(15)\n",
    "\n",
    "p1 = wiki.page(\"Eletromagnetismo\")\n",
    "print(p1.summary)\n",
    "\n",
    "# p2 = wiki.page(\"Série\")\n",
    "# print(p2.text)\n",
    "\n",
    "p3 = wiki.page(\"Cálculo_infinitesimal\")\n",
    "print(p3.summary)"
   ]
  }
 ],
 "metadata": {
  "interpreter": {
   "hash": "ae7890921ac3c17143ff000ac7152addc6614e2051824da39aa37dab63d26d82"
  },
  "kernelspec": {
   "display_name": "Python 3.8.12 ('base')",
   "language": "python",
   "name": "python3"
  },
  "language_info": {
   "codemirror_mode": {
    "name": "ipython",
    "version": 3
   },
   "file_extension": ".py",
   "mimetype": "text/x-python",
   "name": "python",
   "nbconvert_exporter": "python",
   "pygments_lexer": "ipython3",
   "version": "3.8.12"
  },
  "orig_nbformat": 4
 },
 "nbformat": 4,
 "nbformat_minor": 2
}
